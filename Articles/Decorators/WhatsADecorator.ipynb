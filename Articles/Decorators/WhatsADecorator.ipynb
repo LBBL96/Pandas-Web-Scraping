{
 "cells": [
  {
   "cell_type": "markdown",
   "metadata": {},
   "source": [
    "# How to Write and Use a Decorator in Python\n",
    "## @ isn't just for email anymore\n",
    "\n",
    "### What's a Decorator?\n",
    "In Python, a decorator is a function that wraps another function. Its purpose is to provide some additional functionality to the function that it wraps.\n",
    "\n",
    "Let's look at an example.\n",
    "\n",
    "Let's say you've written a simple function that adds up two numbers. You also put a doc string in there because you're awesome and want to help anyone who uses your function to understand what it does."
   ]
  },
  {
   "cell_type": "code",
   "execution_count": 1,
   "metadata": {},
   "outputs": [],
   "source": [
    "def add(a, b):\n",
    "    \"\"\"\n",
    "    Takes two parameters, a and b, and returns their sum.\n",
    "    \"\"\"\n",
    "    return a + b"
   ]
  },
  {
   "cell_type": "code",
   "execution_count": 2,
   "metadata": {},
   "outputs": [
    {
     "data": {
      "text/plain": [
       "4"
      ]
     },
     "execution_count": 2,
     "metadata": {},
     "output_type": "execute_result"
    }
   ],
   "source": [
    "add(1, 3)"
   ]
  },
  {
   "cell_type": "markdown",
   "metadata": {},
   "source": [
    "I want to see what your function does, so I call help on it. "
   ]
  },
  {
   "cell_type": "code",
   "execution_count": 3,
   "metadata": {},
   "outputs": [
    {
     "name": "stdout",
     "output_type": "stream",
     "text": [
      "Help on function add in module __main__:\n",
      "\n",
      "add(a, b)\n",
      "    Takes two parameters, a and b, and returns their sum.\n",
      "\n"
     ]
    }
   ],
   "source": [
    "help(add)"
   ]
  },
  {
   "cell_type": "markdown",
   "metadata": {},
   "source": [
    "Thank you for that! \n",
    "\n",
    "Good documentation is essential to good coding. I'll show you an interesting use case in a minute. \n",
    "\n",
    "### Let's Write a Decorator"
   ]
  },
  {
   "cell_type": "markdown",
   "metadata": {},
   "source": [
    "An easy and common decorator is a performance timer. Conveniently, Python includes a performance counter in its built-in library. You'll need to import it."
   ]
  },
  {
   "cell_type": "code",
   "execution_count": 4,
   "metadata": {},
   "outputs": [],
   "source": [
    "from time import perf_counter"
   ]
  },
  {
   "cell_type": "markdown",
   "metadata": {},
   "source": [
    "If you wanted to see the performance of your function `add()`, you might do it this way:"
   ]
  },
  {
   "cell_type": "code",
   "execution_count": 5,
   "metadata": {},
   "outputs": [
    {
     "name": "stdout",
     "output_type": "stream",
     "text": [
      "4\n",
      "Run time: 0.00011559\n"
     ]
    }
   ],
   "source": [
    "start = perf_counter()\n",
    "print(add(1, 3))\n",
    "end = perf_counter()\n",
    "print(f'Run time: {(end - start):0.8f}')"
   ]
  },
  {
   "cell_type": "markdown",
   "metadata": {},
   "source": [
    "That was pretty fast. Also, I made the printing nicer-looking by using f-string formatting. I included some extra formatting at the end to take the decimals to 8 places.\n",
    "\n",
    "Notice how `start` and `end` wrap around the `add()` function. This layout makes it a good candidate for a decorator, also known as a wrapper. \n",
    "\n",
    "We write a decorator just like any other function. It will take a function as its parameter. I'll call the parameter `fn` to remind me that it's a function. I'll also import `perf_counter` within the function so that I don't have to remember to do that if I use `timer()` elsewhere in the future."
   ]
  },
  {
   "cell_type": "code",
   "execution_count": 6,
   "metadata": {},
   "outputs": [],
   "source": [
    "def timer(fn):\n",
    "    \"\"\"\n",
    "    This is a decorator that returns the time it takes another function to run.\n",
    "    \"\"\"\n",
    "    from time import perf_counter\n",
    "    \n",
    "    def inner_func(*args, **kwargs):\n",
    "        \"\"\"\n",
    "        This is the inner function that the timer decorator returns.\n",
    "        \"\"\"\n",
    "        start = perf_counter()\n",
    "        result = fn(*args, **kwargs)\n",
    "        end = perf_counter()\n",
    "        print(f'Run time: {(end - start):0.8f}')\n",
    "        \n",
    "        return result\n",
    "    \n",
    "    return inner_func"
   ]
  },
  {
   "cell_type": "markdown",
   "metadata": {},
   "source": [
    "### Let's Unpack What's Going on Here\n",
    "\n",
    "#### Outer Function  `timer()`\n",
    "\n",
    "First off, `timer()` doesn't just take in the function `add()`. It can take in any function, which is why I used the generic variable `fn`. \n",
    "\n",
    "Note that when we put `fn` into the `timer()` function, we leave off the parentheses even though it's a function. Why did we do that? Because the parentheses tell Python to call the function. We don't want to call the function yet. If we call it, then its output would be the input to `timer()`. Thus `timer(add(1, 3))` would actually be `timer(4)`, which is completely useless. We don't want to time the number 4, we want to time the function `add()`. Trying to call the function without parameters, e.g., `timer(add())`, doesn't work either. You have to leave off the parentheses. \n",
    "\n",
    "#### Inner Function `inner_func`\n",
    "\n",
    "`inner_func` is a generic name I picked for the function we want to time. It's the inner function, so I chose to call it `inner_func`. We can call this anything we want, but it's best to pick something descriptive. \n",
    "\n",
    "This is the place where we'll put in the parameters for the function we want to time. I could hard-code my earlier parameters `(1, 3)`, but that's not particularly useful if I want to use any other inputs.\n",
    "\n",
    "So how do we put generic parameters in? We use `*args` and `**kwargs`.\n",
    "\n",
    "#### What are `*args` and `**kwargs`?\n",
    "\n",
    "These are the generic placeholder names for an arbitrary type and number of parameters that can be attached to any function we choose to input into `timer()`. Using one star (`*`) tells Python that this is a positional argument. Two stars (`**`) tell Python it's a keyword argument. I won't go into what positional and keyword arguments are, as parameters are a whole other conversation, but it's enough to know that `*args` and `**kwargs` serve as a catch-all for any function that we choose to time, no matter how many or what kind of parameters belong to that function.\n",
    "\n",
    "#### Return Statements\n",
    "\n",
    "There's no need to return the run time, since we're simply printing it. What we need to return is our original function, which I renamed `result` in the inner function. After that, we'll return `inner_func` to the outside world. This two-step process is required when writing a wrapper/decorator."
   ]
  },
  {
   "cell_type": "markdown",
   "metadata": {},
   "source": [
    "### How to Use `timer()`\n",
    "\n",
    "Since we wrote this as a wrapper/decorator, it's not going to give the right output with a regular function call."
   ]
  },
  {
   "cell_type": "code",
   "execution_count": 7,
   "metadata": {},
   "outputs": [
    {
     "data": {
      "text/plain": [
       "<function __main__.timer.<locals>.inner_func(*args, **kwargs)>"
      ]
     },
     "execution_count": 7,
     "metadata": {},
     "output_type": "execute_result"
    }
   ],
   "source": [
    "timer(add(1,3))"
   ]
  },
  {
   "cell_type": "markdown",
   "metadata": {},
   "source": [
    "### Let's Decorate!"
   ]
  },
  {
   "cell_type": "markdown",
   "metadata": {},
   "source": [
    "There are two ways to call a decorator. One way is like this:"
   ]
  },
  {
   "cell_type": "code",
   "execution_count": 8,
   "metadata": {},
   "outputs": [],
   "source": [
    "add = timer(add)"
   ]
  },
  {
   "cell_type": "code",
   "execution_count": 9,
   "metadata": {},
   "outputs": [
    {
     "name": "stdout",
     "output_type": "stream",
     "text": [
      "Run time: 0.00000065\n"
     ]
    },
    {
     "data": {
      "text/plain": [
       "4"
      ]
     },
     "execution_count": 9,
     "metadata": {},
     "output_type": "execute_result"
    }
   ],
   "source": [
    "add(1, 3)"
   ]
  },
  {
   "cell_type": "markdown",
   "metadata": {},
   "source": [
    "We've re-assigned the name `add` to the enclosing function `timer(add)`. Now when we call `add()`, we get not just the added result, but also the run time.\n",
    "\n",
    "Python has a prettier way to do the exact same thing. We can use the `@` sign with the wrapper function's name after it. \n",
    "\n",
    "Make sure you don't leave a space between `@` and the function name, and don't use any parentheses. Put this on the line directly above the definition of the function that you wish to decorate. "
   ]
  },
  {
   "cell_type": "code",
   "execution_count": 10,
   "metadata": {},
   "outputs": [],
   "source": [
    "@timer\n",
    "def add(a, b):\n",
    "    \"\"\"\n",
    "    Takes two parameters, a and b, and returns their sum.\n",
    "    \"\"\"\n",
    "    return a + b"
   ]
  },
  {
   "cell_type": "code",
   "execution_count": 11,
   "metadata": {},
   "outputs": [
    {
     "name": "stdout",
     "output_type": "stream",
     "text": [
      "Run time: 0.00000063\n"
     ]
    },
    {
     "data": {
      "text/plain": [
       "4"
      ]
     },
     "execution_count": 11,
     "metadata": {},
     "output_type": "execute_result"
    }
   ],
   "source": [
    "add(1, 3)"
   ]
  },
  {
   "cell_type": "markdown",
   "metadata": {},
   "source": [
    "### Let's try this with another function!"
   ]
  },
  {
   "cell_type": "code",
   "execution_count": 12,
   "metadata": {},
   "outputs": [],
   "source": [
    "@timer\n",
    "def add_more(a, b, c, d):\n",
    "    \"\"\"\n",
    "    Takes four parameters, a, b, c, and d, and returns their sum.\n",
    "    \"\"\"\n",
    "    return a + b + c + d"
   ]
  },
  {
   "cell_type": "code",
   "execution_count": 13,
   "metadata": {},
   "outputs": [
    {
     "name": "stdout",
     "output_type": "stream",
     "text": [
      "Run time: 0.00000081\n"
     ]
    },
    {
     "data": {
      "text/plain": [
       "14"
      ]
     },
     "execution_count": 13,
     "metadata": {},
     "output_type": "execute_result"
    }
   ],
   "source": [
    "add_more(1, 3, 4, 6)"
   ]
  },
  {
   "cell_type": "markdown",
   "metadata": {},
   "source": [
    "Woo-hoo! \n",
    "\n",
    "### One Tiny Problem, Though\n",
    "\n",
    "`@timer` modified the original functions because it performed the same action as if we had re-assigned their names like so:\n",
    "\n",
    "    add = timer(add)\n",
    "    add_more = timer(add_more)\n",
    "    \n",
    "Re-assigning the function name means that we no longer have access to the original function's metadata. This matters if we want, for example, to get help with it."
   ]
  },
  {
   "cell_type": "code",
   "execution_count": 14,
   "metadata": {},
   "outputs": [
    {
     "name": "stdout",
     "output_type": "stream",
     "text": [
      "Help on function inner_func in module __main__:\n",
      "\n",
      "inner_func(*args, **kwargs)\n",
      "    This is the inner function that the timer decorator returns.\n",
      "\n"
     ]
    }
   ],
   "source": [
    "help(add)"
   ]
  },
  {
   "cell_type": "code",
   "execution_count": 15,
   "metadata": {},
   "outputs": [
    {
     "name": "stdout",
     "output_type": "stream",
     "text": [
      "Help on function inner_func in module __main__:\n",
      "\n",
      "inner_func(*args, **kwargs)\n",
      "    This is the inner function that the timer decorator returns.\n",
      "\n"
     ]
    }
   ],
   "source": [
    "help(add_more)"
   ]
  },
  {
   "cell_type": "markdown",
   "metadata": {},
   "source": [
    "Argh. Calling `help()` now gives us the doc string for `timer()`'s inner function, and this is not helpful. \n",
    "\n",
    "### Now What?\n",
    "\n",
    "Python's standard library includes `functools`, which has a special tool just for the purpose of holding onto the metadata of a decorated function. It's called `wraps`, and is itself a wrapper/decorator. We can use it inside the definition of our original decorator `timer()` by decorating `inner_func`."
   ]
  },
  {
   "cell_type": "code",
   "execution_count": 16,
   "metadata": {},
   "outputs": [],
   "source": [
    "def timer(fn):\n",
    "    \"\"\"\n",
    "    This is a decorator that returns the time it takes another function to run.\n",
    "    \"\"\"\n",
    "    from time import perf_counter\n",
    "    from functools import wraps\n",
    "    \n",
    "    @wraps(fn)\n",
    "    def inner_func(*args, **kwargs):\n",
    "        \"\"\"\n",
    "        This is the inner function that the timer decorator returns.\n",
    "        \"\"\"\n",
    "        start = perf_counter()\n",
    "        result = fn(*args, **kwargs)\n",
    "        end = perf_counter()\n",
    "        print(f'Run time: {(end - start):0.8f}')\n",
    "        \n",
    "        return result\n",
    "    \n",
    "    return inner_func"
   ]
  },
  {
   "cell_type": "markdown",
   "metadata": {},
   "source": [
    "Note that `wraps()` takes `fn` as a parameter the same way `timer()` does. Don't leave that out or it won't work.\n",
    "\n",
    "Now we'll need to re-define the `add()` and `add_more()` functions so that their names point to this updated timer."
   ]
  },
  {
   "cell_type": "code",
   "execution_count": 17,
   "metadata": {},
   "outputs": [],
   "source": [
    "@timer\n",
    "def add(a, b):\n",
    "    \"\"\"\n",
    "    Takes two parameters, a and b, and returns their sum.\n",
    "    \"\"\"\n",
    "    return a + b\n",
    "\n",
    "@timer\n",
    "def add_more(a, b, c, d):\n",
    "    \"\"\"\n",
    "    Takes four parameters, a, b, c, and d, and returns their sum.\n",
    "    \"\"\"\n",
    "    return a + b + c + d"
   ]
  },
  {
   "cell_type": "markdown",
   "metadata": {},
   "source": [
    "They work just as they did before:"
   ]
  },
  {
   "cell_type": "code",
   "execution_count": 18,
   "metadata": {},
   "outputs": [
    {
     "name": "stdout",
     "output_type": "stream",
     "text": [
      "Run time: 0.00000078\n"
     ]
    },
    {
     "data": {
      "text/plain": [
       "4"
      ]
     },
     "execution_count": 18,
     "metadata": {},
     "output_type": "execute_result"
    }
   ],
   "source": [
    "add(1, 3)"
   ]
  },
  {
   "cell_type": "code",
   "execution_count": 19,
   "metadata": {},
   "outputs": [
    {
     "name": "stdout",
     "output_type": "stream",
     "text": [
      "Run time: 0.00000070\n"
     ]
    },
    {
     "data": {
      "text/plain": [
       "14"
      ]
     },
     "execution_count": 19,
     "metadata": {},
     "output_type": "execute_result"
    }
   ],
   "source": [
    "add_more(1, 3, 4, 6)"
   ]
  },
  {
   "cell_type": "markdown",
   "metadata": {},
   "source": [
    "But now when we call `help()`, we get what we wanted."
   ]
  },
  {
   "cell_type": "code",
   "execution_count": 20,
   "metadata": {},
   "outputs": [
    {
     "name": "stdout",
     "output_type": "stream",
     "text": [
      "Help on function add in module __main__:\n",
      "\n",
      "add(a, b)\n",
      "    Takes two parameters, a and b, and returns their sum.\n",
      "\n"
     ]
    }
   ],
   "source": [
    "help(add)"
   ]
  },
  {
   "cell_type": "code",
   "execution_count": 21,
   "metadata": {},
   "outputs": [
    {
     "name": "stdout",
     "output_type": "stream",
     "text": [
      "Help on function add_more in module __main__:\n",
      "\n",
      "add_more(a, b, c, d)\n",
      "    Takes four parameters, a, b, c, and d, and returns their sum.\n",
      "\n"
     ]
    }
   ],
   "source": [
    "help(add_more)"
   ]
  },
  {
   "cell_type": "markdown",
   "metadata": {},
   "source": [
    "Yay!!! \n",
    "\n",
    "Many thanks to Dr. Fred Baptiste, whose \"Deep Dive into Python\" has helped me get a better understanding of the inner workings of this language."
   ]
  },
  {
   "cell_type": "code",
   "execution_count": null,
   "metadata": {},
   "outputs": [],
   "source": []
  }
 ],
 "metadata": {
  "kernelspec": {
   "display_name": "Python 3",
   "language": "python",
   "name": "python3"
  },
  "language_info": {
   "codemirror_mode": {
    "name": "ipython",
    "version": 3
   },
   "file_extension": ".py",
   "mimetype": "text/x-python",
   "name": "python",
   "nbconvert_exporter": "python",
   "pygments_lexer": "ipython3",
   "version": "3.6.8"
  }
 },
 "nbformat": 4,
 "nbformat_minor": 4
}
