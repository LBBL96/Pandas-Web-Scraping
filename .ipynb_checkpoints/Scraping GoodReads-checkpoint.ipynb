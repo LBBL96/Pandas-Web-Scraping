{
 "cells": [
  {
   "cell_type": "markdown",
   "metadata": {},
   "source": [
    "### Practice scraping a website"
   ]
  },
  {
   "cell_type": "code",
   "execution_count": 1,
   "metadata": {},
   "outputs": [],
   "source": [
    "import pandas as pd"
   ]
  },
  {
   "cell_type": "code",
   "execution_count": 2,
   "metadata": {},
   "outputs": [],
   "source": [
    "url = \"https://www.goodreads.com/list/show/1.Best_Books_Ever\"\n",
    "data = pd.read_html(url)"
   ]
  },
  {
   "cell_type": "code",
   "execution_count": null,
   "metadata": {},
   "outputs": [],
   "source": [
    "len(data)"
   ]
  },
  {
   "cell_type": "code",
   "execution_count": 3,
   "metadata": {},
   "outputs": [],
   "source": [
    "top_books = data[0]"
   ]
  },
  {
   "cell_type": "code",
   "execution_count": 4,
   "metadata": {},
   "outputs": [
    {
     "data": {
      "text/html": [
       "<div>\n",
       "<style scoped>\n",
       "    .dataframe tbody tr th:only-of-type {\n",
       "        vertical-align: middle;\n",
       "    }\n",
       "\n",
       "    .dataframe tbody tr th {\n",
       "        vertical-align: top;\n",
       "    }\n",
       "\n",
       "    .dataframe thead th {\n",
       "        text-align: right;\n",
       "    }\n",
       "</style>\n",
       "<table border=\"1\" class=\"dataframe\">\n",
       "  <thead>\n",
       "    <tr style=\"text-align: right;\">\n",
       "      <th></th>\n",
       "      <th>0</th>\n",
       "      <th>1</th>\n",
       "      <th>2</th>\n",
       "      <th>3</th>\n",
       "    </tr>\n",
       "  </thead>\n",
       "  <tbody>\n",
       "    <tr>\n",
       "      <th>0</th>\n",
       "      <td>1</td>\n",
       "      <td>NaN</td>\n",
       "      <td>The Hunger Games (The Hunger Games, #1)  by Su...</td>\n",
       "      <td>Want to Read savingâ¦ Want to Read Currently ...</td>\n",
       "    </tr>\n",
       "    <tr>\n",
       "      <th>1</th>\n",
       "      <td>2</td>\n",
       "      <td>NaN</td>\n",
       "      <td>Harry Potter and the Order of the Phoenix (Har...</td>\n",
       "      <td>Want to Read savingâ¦ Error rating book. Refr...</td>\n",
       "    </tr>\n",
       "    <tr>\n",
       "      <th>2</th>\n",
       "      <td>3</td>\n",
       "      <td>NaN</td>\n",
       "      <td>To Kill a Mockingbird (To Kill a Mockingbird, ...</td>\n",
       "      <td>Want to Read savingâ¦ Error rating book. Refr...</td>\n",
       "    </tr>\n",
       "    <tr>\n",
       "      <th>3</th>\n",
       "      <td>4</td>\n",
       "      <td>NaN</td>\n",
       "      <td>Pride and Prejudice  by Jane Austen  4.26 avg ...</td>\n",
       "      <td>Want to Read savingâ¦ Error rating book. Refr...</td>\n",
       "    </tr>\n",
       "    <tr>\n",
       "      <th>4</th>\n",
       "      <td>5</td>\n",
       "      <td>NaN</td>\n",
       "      <td>Twilight (Twilight, #1)  by Stephenie Meyer  3...</td>\n",
       "      <td>Want to Read savingâ¦ Error rating book. Refr...</td>\n",
       "    </tr>\n",
       "    <tr>\n",
       "      <th>5</th>\n",
       "      <td>6</td>\n",
       "      <td>NaN</td>\n",
       "      <td>The Book Thief  by Markus Zusak (Goodreads Aut...</td>\n",
       "      <td>Want to Read savingâ¦ Error rating book. Refr...</td>\n",
       "    </tr>\n",
       "    <tr>\n",
       "      <th>6</th>\n",
       "      <td>7</td>\n",
       "      <td>NaN</td>\n",
       "      <td>Animal Farm  by George Orwell  3.93 avg rating...</td>\n",
       "      <td>Want to Read savingâ¦ Error rating book. Refr...</td>\n",
       "    </tr>\n",
       "    <tr>\n",
       "      <th>7</th>\n",
       "      <td>8</td>\n",
       "      <td>NaN</td>\n",
       "      <td>The Chronicles of Narnia (Chronicles of Narnia...</td>\n",
       "      <td>Want to Read savingâ¦ Error rating book. Refr...</td>\n",
       "    </tr>\n",
       "    <tr>\n",
       "      <th>8</th>\n",
       "      <td>9</td>\n",
       "      <td>NaN</td>\n",
       "      <td>J.R.R. Tolkien 4-Book Boxed Set: The Hobbit an...</td>\n",
       "      <td>Want to Read savingâ¦ Error rating book. Refr...</td>\n",
       "    </tr>\n",
       "    <tr>\n",
       "      <th>9</th>\n",
       "      <td>10</td>\n",
       "      <td>NaN</td>\n",
       "      <td>Gone with the Wind  by Margaret Mitchell  4.29...</td>\n",
       "      <td>Want to Read savingâ¦ Error rating book. Refr...</td>\n",
       "    </tr>\n",
       "  </tbody>\n",
       "</table>\n",
       "</div>"
      ],
      "text/plain": [
       "    0   1                                                  2  \\\n",
       "0   1 NaN  The Hunger Games (The Hunger Games, #1)  by Su...   \n",
       "1   2 NaN  Harry Potter and the Order of the Phoenix (Har...   \n",
       "2   3 NaN  To Kill a Mockingbird (To Kill a Mockingbird, ...   \n",
       "3   4 NaN  Pride and Prejudice  by Jane Austen  4.26 avg ...   \n",
       "4   5 NaN  Twilight (Twilight, #1)  by Stephenie Meyer  3...   \n",
       "5   6 NaN  The Book Thief  by Markus Zusak (Goodreads Aut...   \n",
       "6   7 NaN  Animal Farm  by George Orwell  3.93 avg rating...   \n",
       "7   8 NaN  The Chronicles of Narnia (Chronicles of Narnia...   \n",
       "8   9 NaN  J.R.R. Tolkien 4-Book Boxed Set: The Hobbit an...   \n",
       "9  10 NaN  Gone with the Wind  by Margaret Mitchell  4.29...   \n",
       "\n",
       "                                                   3  \n",
       "0  Want to Read savingâ¦ Want to Read Currently ...  \n",
       "1  Want to Read savingâ¦ Error rating book. Refr...  \n",
       "2  Want to Read savingâ¦ Error rating book. Refr...  \n",
       "3  Want to Read savingâ¦ Error rating book. Refr...  \n",
       "4  Want to Read savingâ¦ Error rating book. Refr...  \n",
       "5  Want to Read savingâ¦ Error rating book. Refr...  \n",
       "6  Want to Read savingâ¦ Error rating book. Refr...  \n",
       "7  Want to Read savingâ¦ Error rating book. Refr...  \n",
       "8  Want to Read savingâ¦ Error rating book. Refr...  \n",
       "9  Want to Read savingâ¦ Error rating book. Refr...  "
      ]
     },
     "execution_count": 4,
     "metadata": {},
     "output_type": "execute_result"
    }
   ],
   "source": [
    "top_books.head(10)"
   ]
  },
  {
   "cell_type": "code",
   "execution_count": 5,
   "metadata": {},
   "outputs": [],
   "source": [
    "top_books = top_books[2]"
   ]
  },
  {
   "cell_type": "code",
   "execution_count": 6,
   "metadata": {},
   "outputs": [
    {
     "data": {
      "text/plain": [
       "0     The Hunger Games (The Hunger Games, #1)  by Su...\n",
       "1     Harry Potter and the Order of the Phoenix (Har...\n",
       "2     To Kill a Mockingbird (To Kill a Mockingbird, ...\n",
       "3     Pride and Prejudice  by Jane Austen  4.26 avg ...\n",
       "4     Twilight (Twilight, #1)  by Stephenie Meyer  3...\n",
       "                            ...                        \n",
       "95    Winnie-the-Pooh (Winnie-the-Pooh, #1)  by A.A....\n",
       "96    The Complete Stories and Poems  by Edgar Allan...\n",
       "97    A Prayer for Owen Meany  by John Irving (Goodr...\n",
       "98    Harry Potter and the Prisoner of Azkaban (Harr...\n",
       "99    Interview with the Vampire (The Vampire Chroni...\n",
       "Name: 2, Length: 100, dtype: object"
      ]
     },
     "execution_count": 6,
     "metadata": {},
     "output_type": "execute_result"
    }
   ],
   "source": [
    "top_books"
   ]
  },
  {
   "cell_type": "code",
   "execution_count": 119,
   "metadata": {},
   "outputs": [],
   "source": [
    "num1 = top_books.iloc[0]"
   ]
  },
  {
   "cell_type": "code",
   "execution_count": 120,
   "metadata": {},
   "outputs": [],
   "source": [
    "num1 = num1.replace(' by', '')\n",
    "num1 = num1.replace('—','')"
   ]
  },
  {
   "cell_type": "code",
   "execution_count": 121,
   "metadata": {},
   "outputs": [],
   "source": [
    "num1 = num1.split(\"  \")"
   ]
  },
  {
   "cell_type": "code",
   "execution_count": 122,
   "metadata": {},
   "outputs": [
    {
     "data": {
      "text/plain": [
       "['The Hunger Games (The Hunger Games, #1)',\n",
       " 'Suzanne Collins',\n",
       " '4.33 avg rating',\n",
       " '6,012,910 ratings',\n",
       " 'score: 2,904,826,',\n",
       " 'and',\n",
       " '29,615 people voted']"
      ]
     },
     "execution_count": 122,
     "metadata": {},
     "output_type": "execute_result"
    }
   ],
   "source": [
    "num1"
   ]
  },
  {
   "cell_type": "code",
   "execution_count": 123,
   "metadata": {},
   "outputs": [],
   "source": [
    "def make_df(booklist):\n",
    "    \"\"\"\n",
    "    Returns a dataframe containing the title, author, rating, score, number of ratings,\n",
    "    and votes for a given booklist.\n",
    "    \"\"\"   \n",
    "    df = pd.DataFrame()\n",
    "    \n",
    "    # Loop will first clean string, then split it\n",
    "    books = []\n",
    "    for book in booklist:\n",
    "        new_book = book.replace(' by', '')\\\n",
    "        .replace('—','')\\\n",
    "        .replace(' avg rating', '')\\\n",
    "        .replace(' ratings', '')\\\n",
    "        .replace('score: ', '')\\\n",
    "        .replace(' people voted', '')\\\n",
    "        .replace(',', '')\\\n",
    "        .replace(' (Goodreads Author)', '')\\\n",
    "        .replace('really liked it ', '')\\\n",
    "        .split(\"  \")\n",
    "        \n",
    "        books.append(new_book)\n",
    "        \n",
    "    df['title'] = [i[0] for i in books]\n",
    "    df['author'] = [i[1] for i in books]\n",
    "    df['rating'] = [float(i[2]) for i in books]\n",
    "    df['score'] = [int(i[3]) for i in books]\n",
    "    df['num_ratings'] = [int(i[4]) for i in books]\n",
    "    df['votes'] = [int(i[6]) for i in books]\n",
    "\n",
    "    return df"
   ]
  },
  {
   "cell_type": "code",
   "execution_count": 124,
   "metadata": {},
   "outputs": [],
   "source": [
    "df = make_df(top_books)"
   ]
  },
  {
   "cell_type": "code",
   "execution_count": 114,
   "metadata": {},
   "outputs": [
    {
     "data": {
      "text/html": [
       "<div>\n",
       "<style scoped>\n",
       "    .dataframe tbody tr th:only-of-type {\n",
       "        vertical-align: middle;\n",
       "    }\n",
       "\n",
       "    .dataframe tbody tr th {\n",
       "        vertical-align: top;\n",
       "    }\n",
       "\n",
       "    .dataframe thead th {\n",
       "        text-align: right;\n",
       "    }\n",
       "</style>\n",
       "<table border=\"1\" class=\"dataframe\">\n",
       "  <thead>\n",
       "    <tr style=\"text-align: right;\">\n",
       "      <th></th>\n",
       "      <th>title</th>\n",
       "      <th>author</th>\n",
       "      <th>rating</th>\n",
       "      <th>score</th>\n",
       "      <th>num_ratings</th>\n",
       "      <th>votes</th>\n",
       "    </tr>\n",
       "  </thead>\n",
       "  <tbody>\n",
       "    <tr>\n",
       "      <th>0</th>\n",
       "      <td>The Hunger Games (The Hunger Games #1)</td>\n",
       "      <td>Suzanne Collins</td>\n",
       "      <td>4.33</td>\n",
       "      <td>6012910</td>\n",
       "      <td>2904826</td>\n",
       "      <td>29615</td>\n",
       "    </tr>\n",
       "    <tr>\n",
       "      <th>1</th>\n",
       "      <td>Harry Potter and the Order of the Phoenix (Har...</td>\n",
       "      <td>J.K. Rowling</td>\n",
       "      <td>4.49</td>\n",
       "      <td>2313318</td>\n",
       "      <td>2554748</td>\n",
       "      <td>26135</td>\n",
       "    </tr>\n",
       "    <tr>\n",
       "      <th>2</th>\n",
       "      <td>To Kill a Mockingbird (To Kill a Mockingbird #1)</td>\n",
       "      <td>Harper Lee</td>\n",
       "      <td>4.27</td>\n",
       "      <td>4199157</td>\n",
       "      <td>2182187</td>\n",
       "      <td>22441</td>\n",
       "    </tr>\n",
       "    <tr>\n",
       "      <th>3</th>\n",
       "      <td>Pride and Prejudice</td>\n",
       "      <td>Jane Austen</td>\n",
       "      <td>4.26</td>\n",
       "      <td>2764124</td>\n",
       "      <td>1887873</td>\n",
       "      <td>19485</td>\n",
       "    </tr>\n",
       "    <tr>\n",
       "      <th>4</th>\n",
       "      <td>Twilight (Twilight #1)</td>\n",
       "      <td>Stephenie Meyer</td>\n",
       "      <td>3.59</td>\n",
       "      <td>4660191</td>\n",
       "      <td>1440959</td>\n",
       "      <td>14685</td>\n",
       "    </tr>\n",
       "  </tbody>\n",
       "</table>\n",
       "</div>"
      ],
      "text/plain": [
       "                                               title           author  rating  \\\n",
       "0             The Hunger Games (The Hunger Games #1)  Suzanne Collins    4.33   \n",
       "1  Harry Potter and the Order of the Phoenix (Har...     J.K. Rowling    4.49   \n",
       "2   To Kill a Mockingbird (To Kill a Mockingbird #1)       Harper Lee    4.27   \n",
       "3                                Pride and Prejudice      Jane Austen    4.26   \n",
       "4                             Twilight (Twilight #1)  Stephenie Meyer    3.59   \n",
       "\n",
       "     score  num_ratings  votes  \n",
       "0  6012910      2904826  29615  \n",
       "1  2313318      2554748  26135  \n",
       "2  4199157      2182187  22441  \n",
       "3  2764124      1887873  19485  \n",
       "4  4660191      1440959  14685  "
      ]
     },
     "execution_count": 114,
     "metadata": {},
     "output_type": "execute_result"
    }
   ],
   "source": [
    "df.head()"
   ]
  },
  {
   "cell_type": "code",
   "execution_count": 117,
   "metadata": {},
   "outputs": [
    {
     "data": {
      "text/html": [
       "<div>\n",
       "<style scoped>\n",
       "    .dataframe tbody tr th:only-of-type {\n",
       "        vertical-align: middle;\n",
       "    }\n",
       "\n",
       "    .dataframe tbody tr th {\n",
       "        vertical-align: top;\n",
       "    }\n",
       "\n",
       "    .dataframe thead th {\n",
       "        text-align: right;\n",
       "    }\n",
       "</style>\n",
       "<table border=\"1\" class=\"dataframe\">\n",
       "  <thead>\n",
       "    <tr style=\"text-align: right;\">\n",
       "      <th></th>\n",
       "      <th>title</th>\n",
       "      <th>author</th>\n",
       "      <th>rating</th>\n",
       "      <th>score</th>\n",
       "      <th>num_ratings</th>\n",
       "      <th>votes</th>\n",
       "    </tr>\n",
       "  </thead>\n",
       "  <tbody>\n",
       "    <tr>\n",
       "      <th>80</th>\n",
       "      <td>Harry Potter and the Deathly Hallows (Harry Po...</td>\n",
       "      <td>J.K. Rowling</td>\n",
       "      <td>4.62</td>\n",
       "      <td>2617090</td>\n",
       "      <td>307226</td>\n",
       "      <td>3360</td>\n",
       "    </tr>\n",
       "  </tbody>\n",
       "</table>\n",
       "</div>"
      ],
      "text/plain": [
       "                                                title        author  rating  \\\n",
       "80  Harry Potter and the Deathly Hallows (Harry Po...  J.K. Rowling    4.62   \n",
       "\n",
       "      score  num_ratings  votes  \n",
       "80  2617090       307226   3360  "
      ]
     },
     "execution_count": 117,
     "metadata": {},
     "output_type": "execute_result"
    }
   ],
   "source": [
    "# Who has the highest rating?\n",
    "df[df.rating == df.rating.max()]"
   ]
  },
  {
   "cell_type": "code",
   "execution_count": 199,
   "metadata": {},
   "outputs": [],
   "source": [
    "def make_df(booklist):\n",
    "    \"\"\"\n",
    "    Returns a dataframe containing the title, author, rating, score, number of ratings,\n",
    "    and votes for a given booklist.\n",
    "    \"\"\"   \n",
    "    df = pd.DataFrame()\n",
    "    \n",
    "    # Loop will first clean string, then split it\n",
    "    books = []\n",
    "    for book in booklist:\n",
    "        new_book = book.replace(' by', '')\\\n",
    "        .replace('—','')\\\n",
    "        .replace(' avg rating', '')\\\n",
    "        .replace(' ratings', '')\\\n",
    "        .replace('score: ', '')\\\n",
    "        .replace(' people voted', '')\\\n",
    "        .replace(',', '')\\\n",
    "        .replace(' (Goodreads Author)', '')\\\n",
    "        .replace('really liked it ', '')\\\n",
    "        .replace('Ã«', 'e')\\\n",
    "        .replace('Ã©', 'e')\\\n",
    "        .replace('Ã\\xada', 'ia')\\\n",
    "        .replace('Ã¡', 'a')\\\n",
    "        .replace('Ã³', 'o')\\\n",
    "        .replace('Ã¼', 'u')\\\n",
    "        .replace('Ã²', 'a')\\\n",
    "        .replace(' (Original Story By)', '')\\\n",
    "        .split(\"  \")\n",
    "        \n",
    "        books.append(new_book)\n",
    "        \n",
    "    df['title'] = [i[0] for i in books]\n",
    "    df['author'] = [i[1] for i in books]\n",
    "    df['rating'] = [float(i[2]) for i in books]\n",
    "    df['score'] = [int(i[3]) for i in books]\n",
    "    df['num_ratings'] = [int(i[4]) for i in books]\n",
    "    df['votes'] = [int(i[6]) for i in books]\n",
    "\n",
    "    return df"
   ]
  },
  {
   "cell_type": "code",
   "execution_count": 173,
   "metadata": {},
   "outputs": [],
   "source": [
    "df = make_df(top_books)"
   ]
  },
  {
   "cell_type": "code",
   "execution_count": 165,
   "metadata": {},
   "outputs": [
    {
     "data": {
      "text/plain": [
       "['Suzanne Collins',\n",
       " 'J.K. Rowling',\n",
       " 'Harper Lee',\n",
       " 'Jane Austen',\n",
       " 'Stephenie Meyer',\n",
       " 'Markus Zusak',\n",
       " 'George Orwell',\n",
       " 'C.S. Lewis',\n",
       " 'J.R.R. Tolkien',\n",
       " 'Margaret Mitchell']"
      ]
     },
     "execution_count": 165,
     "metadata": {},
     "output_type": "execute_result"
    }
   ],
   "source": [
    "[author for author in df.author][:10]"
   ]
  },
  {
   "cell_type": "code",
   "execution_count": 154,
   "metadata": {},
   "outputs": [],
   "source": [
    "url = \"https://www.goodreads.com/list/show/1.Best_Books_Ever?page=2\"\n",
    "data = pd.read_html(url)"
   ]
  },
  {
   "cell_type": "code",
   "execution_count": 174,
   "metadata": {},
   "outputs": [],
   "source": [
    "next_100 = make_df(data[0][2])"
   ]
  },
  {
   "cell_type": "code",
   "execution_count": 160,
   "metadata": {},
   "outputs": [
    {
     "data": {
      "text/html": [
       "<div>\n",
       "<style scoped>\n",
       "    .dataframe tbody tr th:only-of-type {\n",
       "        vertical-align: middle;\n",
       "    }\n",
       "\n",
       "    .dataframe tbody tr th {\n",
       "        vertical-align: top;\n",
       "    }\n",
       "\n",
       "    .dataframe thead th {\n",
       "        text-align: right;\n",
       "    }\n",
       "</style>\n",
       "<table border=\"1\" class=\"dataframe\">\n",
       "  <thead>\n",
       "    <tr style=\"text-align: right;\">\n",
       "      <th></th>\n",
       "      <th>title</th>\n",
       "      <th>author</th>\n",
       "      <th>rating</th>\n",
       "      <th>score</th>\n",
       "      <th>num_ratings</th>\n",
       "      <th>votes</th>\n",
       "    </tr>\n",
       "  </thead>\n",
       "  <tbody>\n",
       "    <tr>\n",
       "      <th>0</th>\n",
       "      <td>Moby-Dick or the Whale</td>\n",
       "      <td>Herman Melville</td>\n",
       "      <td>3.50</td>\n",
       "      <td>459375</td>\n",
       "      <td>199861</td>\n",
       "      <td>2313</td>\n",
       "    </tr>\n",
       "    <tr>\n",
       "      <th>1</th>\n",
       "      <td>The Red Tent</td>\n",
       "      <td>Anita Diamant</td>\n",
       "      <td>4.17</td>\n",
       "      <td>498986</td>\n",
       "      <td>180621</td>\n",
       "      <td>2018</td>\n",
       "    </tr>\n",
       "    <tr>\n",
       "      <th>2</th>\n",
       "      <td>The Secret Life of Bees</td>\n",
       "      <td>Sue Monk Kidd</td>\n",
       "      <td>4.05</td>\n",
       "      <td>1073196</td>\n",
       "      <td>177416</td>\n",
       "      <td>2031</td>\n",
       "    </tr>\n",
       "    <tr>\n",
       "      <th>3</th>\n",
       "      <td>Clockwork Angel (The Infernal Devices #1)</td>\n",
       "      <td>Cassandra Clare</td>\n",
       "      <td>4.33</td>\n",
       "      <td>616260</td>\n",
       "      <td>168704</td>\n",
       "      <td>1858</td>\n",
       "    </tr>\n",
       "    <tr>\n",
       "      <th>4</th>\n",
       "      <td>Harry Potter and the Goblet of Fire (Harry Pot...</td>\n",
       "      <td>J.K. Rowling</td>\n",
       "      <td>4.56</td>\n",
       "      <td>2376435</td>\n",
       "      <td>162537</td>\n",
       "      <td>1866</td>\n",
       "    </tr>\n",
       "  </tbody>\n",
       "</table>\n",
       "</div>"
      ],
      "text/plain": [
       "                                               title           author  rating  \\\n",
       "0                             Moby-Dick or the Whale  Herman Melville    3.50   \n",
       "1                                       The Red Tent    Anita Diamant    4.17   \n",
       "2                            The Secret Life of Bees    Sue Monk Kidd    4.05   \n",
       "3          Clockwork Angel (The Infernal Devices #1)  Cassandra Clare    4.33   \n",
       "4  Harry Potter and the Goblet of Fire (Harry Pot...     J.K. Rowling    4.56   \n",
       "\n",
       "     score  num_ratings  votes  \n",
       "0   459375       199861   2313  \n",
       "1   498986       180621   2018  \n",
       "2  1073196       177416   2031  \n",
       "3   616260       168704   1858  \n",
       "4  2376435       162537   1866  "
      ]
     },
     "execution_count": 160,
     "metadata": {},
     "output_type": "execute_result"
    }
   ],
   "source": [
    "next_100.head()"
   ]
  },
  {
   "cell_type": "code",
   "execution_count": 187,
   "metadata": {},
   "outputs": [],
   "source": [
    "# [author for author in next_100.author]"
   ]
  },
  {
   "cell_type": "code",
   "execution_count": 176,
   "metadata": {},
   "outputs": [],
   "source": [
    "url = \"https://www.goodreads.com/list/show/1.Best_Books_Ever?page=3\"\n",
    "data = pd.read_html(url)"
   ]
  },
  {
   "cell_type": "code",
   "execution_count": 177,
   "metadata": {},
   "outputs": [],
   "source": [
    "third_100 = make_df(data[0][2])"
   ]
  },
  {
   "cell_type": "code",
   "execution_count": 186,
   "metadata": {},
   "outputs": [],
   "source": [
    "# [author for author in third_100.author]"
   ]
  },
  {
   "cell_type": "code",
   "execution_count": 179,
   "metadata": {},
   "outputs": [],
   "source": [
    "url = \"https://www.goodreads.com/list/show/1.Best_Books_Ever?page=4\"\n",
    "data = pd.read_html(url)"
   ]
  },
  {
   "cell_type": "code",
   "execution_count": 194,
   "metadata": {},
   "outputs": [],
   "source": [
    "fourth = data[0][2] # There's a splitting issue b/c of the Quran; will need to be handled separately"
   ]
  },
  {
   "cell_type": "code",
   "execution_count": 196,
   "metadata": {},
   "outputs": [],
   "source": [
    "url = \"https://www.goodreads.com/list/show/1.Best_Books_Ever?page=5\"\n",
    "data = pd.read_html(url)"
   ]
  },
  {
   "cell_type": "code",
   "execution_count": 200,
   "metadata": {},
   "outputs": [],
   "source": [
    "fifth = make_df(data[0][2])"
   ]
  },
  {
   "cell_type": "code",
   "execution_count": 202,
   "metadata": {},
   "outputs": [],
   "source": [
    "# [author for author in fifth.author]"
   ]
  },
  {
   "cell_type": "code",
   "execution_count": 203,
   "metadata": {},
   "outputs": [],
   "source": [
    "uri = \"https://www.goodreads.com/list/show/1.Best_Books_Ever?page=\""
   ]
  },
  {
   "cell_type": "code",
   "execution_count": 207,
   "metadata": {},
   "outputs": [],
   "source": [
    "pages = []\n",
    "for i in range(5,10):\n",
    "    url = uri + str(i)\n",
    "    data = pd.read_html(url)\n",
    "    pages.append(data)"
   ]
  },
  {
   "cell_type": "code",
   "execution_count": 214,
   "metadata": {},
   "outputs": [],
   "source": [
    "sixth = make_df(pages[1][0][2])"
   ]
  },
  {
   "cell_type": "code",
   "execution_count": 251,
   "metadata": {},
   "outputs": [],
   "source": [
    "seventh = pd.DataFrame()\n",
    "for i in range(len(pages)):\n",
    "        seventh.append(make_df(pages[i][0][2]))"
   ]
  },
  {
   "cell_type": "code",
   "execution_count": 271,
   "metadata": {},
   "outputs": [],
   "source": [
    "for i in range(len(pages)):\n",
    "    flattened = pd.concat([sixth, make_df(pages[i][0][2])], sort=False)"
   ]
  },
  {
   "cell_type": "code",
   "execution_count": 272,
   "metadata": {},
   "outputs": [
    {
     "data": {
      "text/plain": [
       "200"
      ]
     },
     "execution_count": 272,
     "metadata": {},
     "output_type": "execute_result"
    }
   ],
   "source": [
    "len(flattened)"
   ]
  },
  {
   "cell_type": "code",
   "execution_count": 274,
   "metadata": {},
   "outputs": [
    {
     "data": {
      "text/plain": [
       "0"
      ]
     },
     "execution_count": 274,
     "metadata": {},
     "output_type": "execute_result"
    }
   ],
   "source": [
    "len(seventh)"
   ]
  },
  {
   "cell_type": "code",
   "execution_count": 275,
   "metadata": {},
   "outputs": [
    {
     "data": {
      "text/plain": [
       "5"
      ]
     },
     "execution_count": 275,
     "metadata": {},
     "output_type": "execute_result"
    }
   ],
   "source": [
    "len(pages)"
   ]
  },
  {
   "cell_type": "code",
   "execution_count": 318,
   "metadata": {},
   "outputs": [],
   "source": [
    "first_900 = df.append(next_100)\\\n",
    "    .append(third_100)\\\n",
    "    .append(fifth)\\\n",
    "    .append(sixth)\\\n",
    "    .append(make_df(pages[1][0][2]))\\\n",
    "    .append(make_df(pages[2][0][2]))\\\n",
    "    .append(make_df(pages[3][0][2]))\\\n",
    "    .append(make_df(pages[4][0][2]))\\\n",
    "    .reset_index().drop(columns='index')"
   ]
  },
  {
   "cell_type": "code",
   "execution_count": 319,
   "metadata": {},
   "outputs": [
    {
     "data": {
      "text/plain": [
       "rating              4.085311\n",
       "score          392613.132222\n",
       "num_ratings     95493.522222\n",
       "votes            1063.157778\n",
       "dtype: float64"
      ]
     },
     "execution_count": 319,
     "metadata": {},
     "output_type": "execute_result"
    }
   ],
   "source": [
    "first_900.mean()"
   ]
  },
  {
   "cell_type": "code",
   "execution_count": 320,
   "metadata": {},
   "outputs": [
    {
     "data": {
      "text/plain": [
       "title            11/22/63\n",
       "author         A.A. Milne\n",
       "rating               3.39\n",
       "score                 335\n",
       "num_ratings          7345\n",
       "votes                  76\n",
       "dtype: object"
      ]
     },
     "execution_count": 320,
     "metadata": {},
     "output_type": "execute_result"
    }
   ],
   "source": [
    "first_900.min()"
   ]
  },
  {
   "cell_type": "code",
   "execution_count": 321,
   "metadata": {},
   "outputs": [
    {
     "data": {
      "text/plain": [
       "title               Ú¯Ù Ø´Ø¯Ù Ø§Û Ø¯Ø± Ù\n",
       "Ù\n",
       "author         Ø³ÛØ¯ Ù\n",
       "Ø±ØªØ¶Û Ù\n",
       "ØµØ·ÙÙÛ\n",
       "rating                                   4.82\n",
       "score                                 6444904\n",
       "num_ratings                           2904826\n",
       "votes                                   29615\n",
       "dtype: object"
      ]
     },
     "execution_count": 321,
     "metadata": {},
     "output_type": "execute_result"
    }
   ],
   "source": [
    "first_900.max()"
   ]
  },
  {
   "cell_type": "code",
   "execution_count": null,
   "metadata": {},
   "outputs": [],
   "source": []
  }
 ],
 "metadata": {
  "kernelspec": {
   "display_name": "Conda [PythonData]",
   "language": "python",
   "name": "pythondata"
  },
  "language_info": {
   "codemirror_mode": {
    "name": "ipython",
    "version": 3
   },
   "file_extension": ".py",
   "mimetype": "text/x-python",
   "name": "python",
   "nbconvert_exporter": "python",
   "pygments_lexer": "ipython3",
   "version": "3.6.9"
  }
 },
 "nbformat": 4,
 "nbformat_minor": 2
}
